{
 "cells": [
  {
   "cell_type": "code",
   "execution_count": 1,
   "metadata": {
    "collapsed": true
   },
   "outputs": [],
   "source": [
    "import numpy as np\n",
    "from sklearn.linear_model import Ridge\n",
    "\n",
    "\n",
    "class ELM(Ridge):\n",
    "    \"\"\"Extreme Learning Machine simple implementation.\n",
    "    \n",
    "    param d: number of ELM features\n",
    "    \"\"\"\n",
    "    \n",
    "    # this scary code is simply copied from scikit-learn Github; this is a requirement\n",
    "    def __init__(self, d=10, alpha=1.0, fit_intercept=True, normalize=False,\n",
    "             copy_X=True, max_iter=None, tol=1e-3, solver=\"auto\",\n",
    "             random_state=None):\n",
    "        super(ELM, self).__init__(alpha=alpha, fit_intercept=fit_intercept,\n",
    "                                  normalize=normalize, copy_X=copy_X,\n",
    "                                  max_iter=max_iter, tol=tol, solver=solver,\n",
    "                                  random_state=random_state)  \n",
    "\n",
    "        # actual ELM initialization\n",
    "        self.d = d\n",
    "        self.W = None\n",
    "        self.bias = None\n",
    "\n",
    "        \n",
    "    def get_ELM_features(self, X):\n",
    "        # create random matrix if it does not exist\n",
    "        if self.W is None:\n",
    "            d0 = X.shape[1]\n",
    "            self.W = np.random.randn(d0, self.d)\n",
    "            self.bias = np.random.randn(self.d)\n",
    "            \n",
    "        # make ELM features\n",
    "        X_elm = np.tanh( np.dot(X, self.W) + self.bias )\n",
    "        return X_elm\n",
    "\n",
    "    \n",
    "    def fit(self, *args, **kwargs):\n",
    "        # replace original X (first argument) with ELM features\n",
    "        newargs = list(args)\n",
    "        newargs[0] = self.get_ELM_features(newargs[0])\n",
    "        super(ELM, self).fit(*newargs, **kwargs)\n",
    "\n",
    "        \n",
    "    def predict(self, *args, **kwargs):\n",
    "        # replace original X (first argument) with ELM features\n",
    "        newargs = list(args)\n",
    "        newargs[0] = self.get_ELM_features(newargs[0])\n",
    "        return super(ELM, self).predict(*newargs, **kwargs)   "
   ]
  },
  {
   "cell_type": "code",
   "execution_count": 29,
   "metadata": {
    "collapsed": false
   },
   "outputs": [],
   "source": [
    "from sklearn.model_selection import cross_val_score\n",
    "best_score = 0\n",
    "for d in [5, 10, 20, 30, 40, 50]:\n",
    "    for alpha in [0.001, 0.01, 0.1, 1, 10, 100, 1000]:\n",
    "        # for each combination of parameters\n",
    "        # train an ELM\n",
    "        elm = ELM(d=d, alpha=alpha)\n",
    "        # perform cross-validation\n",
    "        scores = cross_val_score(elm, X, y, cv=5)\n",
    "        # compute mean cross-validation accuracy\n",
    "        score = np.mean(scores)\n",
    "        # if we got a better score, store the score and the parameters\n",
    "        if score > best_score:\n",
    "            best_score = score\n",
    "            best_parameters = {'d':d,'alpha':alpha}\n",
    "# rebuild a model on the combined training and validation set\n",
    "elm = ELM(**best_parameters)\n",
    "elm.fit(X,y)"
   ]
  },
  {
   "cell_type": "code",
   "execution_count": 30,
   "metadata": {
    "collapsed": false
   },
   "outputs": [
    {
     "data": {
      "text/plain": [
       "0.48024164652353374"
      ]
     },
     "execution_count": 30,
     "metadata": {},
     "output_type": "execute_result"
    }
   ],
   "source": [
    "best_score"
   ]
  },
  {
   "cell_type": "code",
   "execution_count": 31,
   "metadata": {
    "collapsed": false
   },
   "outputs": [
    {
     "data": {
      "text/plain": [
       "{'alpha': 0.1, 'd': 50}"
      ]
     },
     "execution_count": 31,
     "metadata": {},
     "output_type": "execute_result"
    }
   ],
   "source": [
    "best_parameters"
   ]
  },
  {
   "cell_type": "code",
   "execution_count": 32,
   "metadata": {
    "collapsed": true
   },
   "outputs": [],
   "source": [
    "param_grid = {'d':[5, 10, 20, 30, 40, 50], 'alpha':[0.001, 0.01, 0.1, 1, 10, 100, 1000]}"
   ]
  },
  {
   "cell_type": "code",
   "execution_count": 39,
   "metadata": {
    "collapsed": false
   },
   "outputs": [
    {
     "data": {
      "text/plain": [
       "{'alpha': [0.001, 0.01, 0.1, 1, 10, 100, 1000], 'd': [5, 10, 20, 30, 40, 50]}"
      ]
     },
     "execution_count": 39,
     "metadata": {},
     "output_type": "execute_result"
    }
   ],
   "source": [
    "param_grid"
   ]
  },
  {
   "cell_type": "code",
   "execution_count": 40,
   "metadata": {
    "collapsed": true
   },
   "outputs": [],
   "source": [
    "from sklearn.model_selection import GridSearchCV\n",
    "grid_search = GridSearchCV(ELM(), param_grid, cv=5)"
   ]
  },
  {
   "cell_type": "code",
   "execution_count": 41,
   "metadata": {
    "collapsed": true
   },
   "outputs": [],
   "source": [
    "X_train, X_test, y_train, y_test = train_test_split(X,y,random_state=0)"
   ]
  },
  {
   "cell_type": "code",
   "execution_count": 42,
   "metadata": {
    "collapsed": false
   },
   "outputs": [
    {
     "data": {
      "text/plain": [
       "GridSearchCV(cv=5, error_score='raise',\n",
       "       estimator=ELM(alpha=1.0, copy_X=True, d=10, fit_intercept=True, max_iter=None,\n",
       "  normalize=False, random_state=None, solver='auto', tol=0.001),\n",
       "       fit_params={}, iid=True, n_jobs=1,\n",
       "       param_grid={'d': [5, 10, 20, 30, 40, 50], 'alpha': [0.001, 0.01, 0.1, 1, 10, 100, 1000]},\n",
       "       pre_dispatch='2*n_jobs', refit=True, return_train_score=True,\n",
       "       scoring=None, verbose=0)"
      ]
     },
     "execution_count": 42,
     "metadata": {},
     "output_type": "execute_result"
    }
   ],
   "source": [
    "grid_search.fit(X_train, y_train)"
   ]
  },
  {
   "cell_type": "code",
   "execution_count": 43,
   "metadata": {
    "collapsed": false
   },
   "outputs": [
    {
     "data": {
      "text/plain": [
       "0.57529524659385389"
      ]
     },
     "execution_count": 43,
     "metadata": {},
     "output_type": "execute_result"
    }
   ],
   "source": [
    "grid_search.score(X_test, y_test)"
   ]
  },
  {
   "cell_type": "code",
   "execution_count": 44,
   "metadata": {
    "collapsed": false
   },
   "outputs": [
    {
     "data": {
      "text/plain": [
       "{'alpha': 0.01, 'd': 50}"
      ]
     },
     "execution_count": 44,
     "metadata": {},
     "output_type": "execute_result"
    }
   ],
   "source": [
    "grid_search.best_params_"
   ]
  },
  {
   "cell_type": "code",
   "execution_count": 45,
   "metadata": {
    "collapsed": false
   },
   "outputs": [
    {
     "data": {
      "text/plain": [
       "0.56632917074055444"
      ]
     },
     "execution_count": 45,
     "metadata": {},
     "output_type": "execute_result"
    }
   ],
   "source": [
    "grid_search.best_score_"
   ]
  },
  {
   "cell_type": "code",
   "execution_count": 46,
   "metadata": {
    "collapsed": false
   },
   "outputs": [
    {
     "data": {
      "text/plain": [
       "ELM(alpha=0.01, copy_X=True, d=50, fit_intercept=True, max_iter=None,\n",
       "  normalize=False, random_state=None, solver='auto', tol=0.001)"
      ]
     },
     "execution_count": 46,
     "metadata": {},
     "output_type": "execute_result"
    }
   ],
   "source": [
    "grid_search.best_estimator_"
   ]
  },
  {
   "cell_type": "markdown",
   "metadata": {},
   "source": [
    "import pandas as pd\n",
    "results = pd.DataFrame(grid_search.cv_results_)\n",
    "results.head()"
   ]
  },
  {
   "cell_type": "code",
   "execution_count": 57,
   "metadata": {
    "collapsed": false
   },
   "outputs": [],
   "source": [
    "scores = np.array(results.mean_test_score).reshape(7,6)"
   ]
  },
  {
   "cell_type": "code",
   "execution_count": 52,
   "metadata": {
    "collapsed": true
   },
   "outputs": [],
   "source": [
    "import mglearn"
   ]
  },
  {
   "cell_type": "code",
   "execution_count": 59,
   "metadata": {
    "collapsed": false
   },
   "outputs": [
    {
     "data": {
      "text/plain": [
       "<matplotlib.collections.PolyCollection at 0x7ff023fbaa90>"
      ]
     },
     "execution_count": 59,
     "metadata": {},
     "output_type": "execute_result"
    },
    {
     "data": {
      "image/png": "[encoded data removed]",
      "text/plain": [
       "<matplotlib.figure.Figure at 0x7ff02a3a7ba8>"
      ]
     },
     "metadata": {},
     "output_type": "display_data"
    }
   ],
   "source": [
    "%matplotlib inline\n",
    "mglearn.tools.heatmap(scores, xlabel='d', xticklabels=param_grid['d'], ylabel='alpha', yticklabels=param_grid['alpha'],cmap=\"viridis\")"
   ]
  }
 ],
 "metadata": {
  "kernelspec": {
   "display_name": "Python 3",
   "language": "python",
   "name": "python3"
  },
  "language_info": {
   "codemirror_mode": {
    "name": "ipython",
    "version": 3
   },
   "file_extension": ".py",
   "mimetype": "text/x-python",
   "name": "python",
   "nbconvert_exporter": "python",
   "pygments_lexer": "ipython3",
   "version": "3.6.0"
  }
 },
 "nbformat": 4,
 "nbformat_minor": 2
}
